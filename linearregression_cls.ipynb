{
  "nbformat": 4,
  "nbformat_minor": 0,
  "metadata": {
    "colab": {
      "provenance": []
    },
    "kernelspec": {
      "name": "python3",
      "display_name": "Python 3"
    },
    "language_info": {
      "name": "python"
    }
  },
  "cells": [
    {
      "cell_type": "code",
      "source": [
        "from sklearn.linear_model import LinearRegression\n",
        "lr=LinearRegression()\n",
        "a=[[5],[7],[12],[16],[20]]\n",
        "b=[70,100,140,205,230]\n",
        "lr.fit(a,b)\n",
        "lr.predict([[5.5]])\n",
        "plt.scatter(a,b,color='black')\n",
        "y_pred=lr.predict([[5.5]])\n",
        "print(y_pred)\n",
        "plt.plot(5.5,y_pred,color='pink',linewidth=3,marker='H')\n",
        "plt.xlabel('Time')\n",
        "plt.ylabel('Mass')\n",
        "plt.title('Linear Regression')\n",
        "\n",
        "plt.show()"
      ],
      "metadata": {
        "colab": {
          "base_uri": "https://localhost:8080/",
          "height": 489
        },
        "id": "QslcdtVIUqmO",
        "outputId": "f199710c-ab55-4725-d1a9-b45e7fd1cfc9"
      },
      "execution_count": null,
      "outputs": [
        {
          "output_type": "stream",
          "name": "stdout",
          "text": [
            "[78.51298701]\n"
          ]
        },
        {
          "output_type": "display_data",
          "data": {
            "text/plain": [
              "<Figure size 640x480 with 1 Axes>"
            ],
            "image/png": "[encoded data removed]"
          },
          "metadata": {}
        }
      ]
    },
    {
      "cell_type": "code",
      "source": [
        "import numpy as np\n",
        "from sklearn.linear_model import LinearRegression\n",
        "# Sample financial data\n",
        "X = np.array([[1, 2], [3, 4], [5, 6]]) # Example features\n",
        "y = np.array([3, 7, 11]) # Example target variable (e.g., stock prices)\n",
        "# Create and fit the model\n",
        "model = LinearRegression()\n",
        "model.fit(X, y)\n",
        "# Predict future stock prices\n",
        "future_data = np.array([[7, 8], [9, 10]]) # Example future features\n",
        "predictions = model.predict(future_data)\n",
        "print(predictions)"
      ],
      "metadata": {
        "colab": {
          "base_uri": "https://localhost:8080/"
        },
        "id": "elPXJu_cSDnR",
        "outputId": "304bbc8e-5918-4357-c4f3-b82749bb5ebf"
      },
      "execution_count": null,
      "outputs": [
        {
          "output_type": "stream",
          "name": "stdout",
          "text": [
            "[15. 19.]\n"
          ]
        }
      ]
    },
    {
      "cell_type": "code",
      "source": [
        "import numpy as np\n",
        "from sklearn import linear_model\n",
        "from sklearn.linear_model import LinearRegression\n",
        "import matplotlib.pyplot as plt\n"
      ],
      "metadata": {
        "id": "ND4c8dbZRzWg"
      },
      "execution_count": null,
      "outputs": []
    },
    {
      "cell_type": "code",
      "source": [
        "#problem data\n",
        "t=np.array([5,7,12,16,29])\n",
        "m=np.array([40,120,180,210,240])"
      ],
      "metadata": {
        "id": "jB31xorYPigI"
      },
      "execution_count": null,
      "outputs": []
    },
    {
      "cell_type": "code",
      "source": [
        "lr=LinearRegression()\n",
        "lr.fit(t,m)\n"
      ],
      "metadata": {
        "colab": {
          "base_uri": "https://localhost:8080/",
          "height": 74
        },
        "id": "7m2UjHohQDPZ",
        "outputId": "db4cc408-75d4-4e81-f76d-0eb73f49428b"
      },
      "execution_count": null,
      "outputs": [
        {
          "output_type": "execute_result",
          "data": {
            "text/plain": [
              "LinearRegression()"
            ],
            "text/html": [
              "<style>#sk-container-id-1 {color: black;background-color: white;}#sk-container-id-1 pre{padding: 0;}#sk-container-id-1 div.sk-toggleable {background-color: white;}#sk-container-id-1 label.sk-toggleable__label {cursor: pointer;display: block;width: 100%;margin-bottom: 0;padding: 0.3em;box-sizing: border-box;text-align: center;}#sk-container-id-1 label.sk-toggleable__label-arrow:before {content: \"▸\";float: left;margin-right: 0.25em;color: #696969;}#sk-container-id-1 label.sk-toggleable__label-arrow:hover:before {color: black;}#sk-container-id-1 div.sk-estimator:hover label.sk-toggleable__label-arrow:before {color: black;}#sk-container-id-1 div.sk-toggleable__content {max-height: 0;max-width: 0;overflow: hidden;text-align: left;background-color: #f0f8ff;}#sk-container-id-1 div.sk-toggleable__content pre {margin: 0.2em;color: black;border-radius: 0.25em;background-color: #f0f8ff;}#sk-container-id-1 input.sk-toggleable__control:checked~div.sk-toggleable__content {max-height: 200px;max-width: 100%;overflow: auto;}#sk-container-id-1 input.sk-toggleable__control:checked~label.sk-toggleable__label-arrow:before {content: \"▾\";}#sk-container-id-1 div.sk-estimator input.sk-toggleable__control:checked~label.sk-toggleable__label {background-color: #d4ebff;}#sk-container-id-1 div.sk-label input.sk-toggleable__control:checked~label.sk-toggleable__label {background-color: #d4ebff;}#sk-container-id-1 input.sk-hidden--visually {border: 0;clip: rect(1px 1px 1px 1px);clip: rect(1px, 1px, 1px, 1px);height: 1px;margin: -1px;overflow: hidden;padding: 0;position: absolute;width: 1px;}#sk-container-id-1 div.sk-estimator {font-family: monospace;background-color: #f0f8ff;border: 1px dotted black;border-radius: 0.25em;box-sizing: border-box;margin-bottom: 0.5em;}#sk-container-id-1 div.sk-estimator:hover {background-color: #d4ebff;}#sk-container-id-1 div.sk-parallel-item::after {content: \"\";width: 100%;border-bottom: 1px solid gray;flex-grow: 1;}#sk-container-id-1 div.sk-label:hover label.sk-toggleable__label {background-color: #d4ebff;}#sk-container-id-1 div.sk-serial::before {content: \"\";position: absolute;border-left: 1px solid gray;box-sizing: border-box;top: 0;bottom: 0;left: 50%;z-index: 0;}#sk-container-id-1 div.sk-serial {display: flex;flex-direction: column;align-items: center;background-color: white;padding-right: 0.2em;padding-left: 0.2em;position: relative;}#sk-container-id-1 div.sk-item {position: relative;z-index: 1;}#sk-container-id-1 div.sk-parallel {display: flex;align-items: stretch;justify-content: center;background-color: white;position: relative;}#sk-container-id-1 div.sk-item::before, #sk-container-id-1 div.sk-parallel-item::before {content: \"\";position: absolute;border-left: 1px solid gray;box-sizing: border-box;top: 0;bottom: 0;left: 50%;z-index: -1;}#sk-container-id-1 div.sk-parallel-item {display: flex;flex-direction: column;z-index: 1;position: relative;background-color: white;}#sk-container-id-1 div.sk-parallel-item:first-child::after {align-self: flex-end;width: 50%;}#sk-container-id-1 div.sk-parallel-item:last-child::after {align-self: flex-start;width: 50%;}#sk-container-id-1 div.sk-parallel-item:only-child::after {width: 0;}#sk-container-id-1 div.sk-dashed-wrapped {border: 1px dashed gray;margin: 0 0.4em 0.5em 0.4em;box-sizing: border-box;padding-bottom: 0.4em;background-color: white;}#sk-container-id-1 div.sk-label label {font-family: monospace;font-weight: bold;display: inline-block;line-height: 1.2em;}#sk-container-id-1 div.sk-label-container {text-align: center;}#sk-container-id-1 div.sk-container {/* jupyter's `normalize.less` sets `[hidden] { display: none; }` but bootstrap.min.css set `[hidden] { display: none !important; }` so we also need the `!important` here to be able to override the default hidden behavior on the sphinx rendered scikit-learn.org. See: https://github.com/scikit-learn/scikit-learn/issues/21755 */display: inline-block !important;position: relative;}#sk-container-id-1 div.sk-text-repr-fallback {display: none;}</style><div id=\"sk-container-id-1\" class=\"sk-top-container\"><div class=\"sk-text-repr-fallback\"><pre>LinearRegression()</pre><b>In a Jupyter environment, please rerun this cell to show the HTML representation or trust the notebook. <br />On GitHub, the HTML representation is unable to render, please try loading this page with nbviewer.org.</b></div><div class=\"sk-container\" hidden><div class=\"sk-item\"><div class=\"sk-estimator sk-toggleable\"><input class=\"sk-toggleable__control sk-hidden--visually\" id=\"sk-estimator-id-1\" type=\"checkbox\" checked><label for=\"sk-estimator-id-1\" class=\"sk-toggleable__label sk-toggleable__label-arrow\">LinearRegression</label><div class=\"sk-toggleable__content\"><pre>LinearRegression()</pre></div></div></div></div></div>"
            ]
          },
          "metadata": {},
          "execution_count": 8
        }
      ]
    },
    {
      "cell_type": "code",
      "source": [
        "plt.scatter(t,m,color='black')\n",
        "y_pred=lr.predict(t)\n",
        "print(y_pred)\n",
        "plt.plot(t,y_pred,color='blue',linewidth=3,marker='H')\n",
        "plt.xlabel('Time')\n",
        "plt.ylabel('mass')\n",
        "plt.title('Linear Regression')\n",
        "plt.show()"
      ],
      "metadata": {
        "colab": {
          "base_uri": "https://localhost:8080/",
          "height": 489
        },
        "id": "Wco47BMNQJP7",
        "outputId": "cbff9f31-dd1d-4bfc-9d92-5cc89be6fed6"
      },
      "execution_count": null,
      "outputs": [
        {
          "output_type": "stream",
          "name": "stdout",
          "text": [
            "[ 73.09090909  94.77922078 149.         192.37662338 235.75324675]\n"
          ]
        },
        {
          "output_type": "display_data",
          "data": {
            "text/plain": [
              "<Figure size 640x480 with 1 Axes>"
            ],
            "image/png": "[encoded data removed]"
          },
          "metadata": {}
        }
      ]
    },
    {
      "cell_type": "code",
      "source": [
        "import numpy as np\n",
        "from sklearn.linear_model import LogisticRegression\n",
        "distance=np.array([1,2,5,10,15,20,21,22,23,24,25,26,27,28,29,30,35,40,41,47,50]).reshape(-1,1)\n",
        "probabilities=np.array([1,1,1,1,1,1,0.9,0.85,0.73,0.67,0.5,0.47,0.39,0.31,0.25,0.15,0,0,0,0,0])\n",
        "threshold=0.\n",
        "binary_labels=(probabilities>threshold)\n",
        "logr=LogisticRegression()\n",
        "logr.fit(distance,binary_labels)"
      ],
      "metadata": {
        "colab": {
          "base_uri": "https://localhost:8080/",
          "height": 74
        },
        "id": "XR1ehvdvVHCL",
        "outputId": "5411ce30-0762-4f26-d31f-82fb2c08ee2e"
      },
      "execution_count": null,
      "outputs": [
        {
          "output_type": "execute_result",
          "data": {
            "text/plain": [
              "LogisticRegression()"
            ],
            "text/html": [
              "<style>#sk-container-id-2 {color: black;background-color: white;}#sk-container-id-2 pre{padding: 0;}#sk-container-id-2 div.sk-toggleable {background-color: white;}#sk-container-id-2 label.sk-toggleable__label {cursor: pointer;display: block;width: 100%;margin-bottom: 0;padding: 0.3em;box-sizing: border-box;text-align: center;}#sk-container-id-2 label.sk-toggleable__label-arrow:before {content: \"▸\";float: left;margin-right: 0.25em;color: #696969;}#sk-container-id-2 label.sk-toggleable__label-arrow:hover:before {color: black;}#sk-container-id-2 div.sk-estimator:hover label.sk-toggleable__label-arrow:before {color: black;}#sk-container-id-2 div.sk-toggleable__content {max-height: 0;max-width: 0;overflow: hidden;text-align: left;background-color: #f0f8ff;}#sk-container-id-2 div.sk-toggleable__content pre {margin: 0.2em;color: black;border-radius: 0.25em;background-color: #f0f8ff;}#sk-container-id-2 input.sk-toggleable__control:checked~div.sk-toggleable__content {max-height: 200px;max-width: 100%;overflow: auto;}#sk-container-id-2 input.sk-toggleable__control:checked~label.sk-toggleable__label-arrow:before {content: \"▾\";}#sk-container-id-2 div.sk-estimator input.sk-toggleable__control:checked~label.sk-toggleable__label {background-color: #d4ebff;}#sk-container-id-2 div.sk-label input.sk-toggleable__control:checked~label.sk-toggleable__label {background-color: #d4ebff;}#sk-container-id-2 input.sk-hidden--visually {border: 0;clip: rect(1px 1px 1px 1px);clip: rect(1px, 1px, 1px, 1px);height: 1px;margin: -1px;overflow: hidden;padding: 0;position: absolute;width: 1px;}#sk-container-id-2 div.sk-estimator {font-family: monospace;background-color: #f0f8ff;border: 1px dotted black;border-radius: 0.25em;box-sizing: border-box;margin-bottom: 0.5em;}#sk-container-id-2 div.sk-estimator:hover {background-color: #d4ebff;}#sk-container-id-2 div.sk-parallel-item::after {content: \"\";width: 100%;border-bottom: 1px solid gray;flex-grow: 1;}#sk-container-id-2 div.sk-label:hover label.sk-toggleable__label {background-color: #d4ebff;}#sk-container-id-2 div.sk-serial::before {content: \"\";position: absolute;border-left: 1px solid gray;box-sizing: border-box;top: 0;bottom: 0;left: 50%;z-index: 0;}#sk-container-id-2 div.sk-serial {display: flex;flex-direction: column;align-items: center;background-color: white;padding-right: 0.2em;padding-left: 0.2em;position: relative;}#sk-container-id-2 div.sk-item {position: relative;z-index: 1;}#sk-container-id-2 div.sk-parallel {display: flex;align-items: stretch;justify-content: center;background-color: white;position: relative;}#sk-container-id-2 div.sk-item::before, #sk-container-id-2 div.sk-parallel-item::before {content: \"\";position: absolute;border-left: 1px solid gray;box-sizing: border-box;top: 0;bottom: 0;left: 50%;z-index: -1;}#sk-container-id-2 div.sk-parallel-item {display: flex;flex-direction: column;z-index: 1;position: relative;background-color: white;}#sk-container-id-2 div.sk-parallel-item:first-child::after {align-self: flex-end;width: 50%;}#sk-container-id-2 div.sk-parallel-item:last-child::after {align-self: flex-start;width: 50%;}#sk-container-id-2 div.sk-parallel-item:only-child::after {width: 0;}#sk-container-id-2 div.sk-dashed-wrapped {border: 1px dashed gray;margin: 0 0.4em 0.5em 0.4em;box-sizing: border-box;padding-bottom: 0.4em;background-color: white;}#sk-container-id-2 div.sk-label label {font-family: monospace;font-weight: bold;display: inline-block;line-height: 1.2em;}#sk-container-id-2 div.sk-label-container {text-align: center;}#sk-container-id-2 div.sk-container {/* jupyter's `normalize.less` sets `[hidden] { display: none; }` but bootstrap.min.css set `[hidden] { display: none !important; }` so we also need the `!important` here to be able to override the default hidden behavior on the sphinx rendered scikit-learn.org. See: https://github.com/scikit-learn/scikit-learn/issues/21755 */display: inline-block !important;position: relative;}#sk-container-id-2 div.sk-text-repr-fallback {display: none;}</style><div id=\"sk-container-id-2\" class=\"sk-top-container\"><div class=\"sk-text-repr-fallback\"><pre>LogisticRegression()</pre><b>In a Jupyter environment, please rerun this cell to show the HTML representation or trust the notebook. <br />On GitHub, the HTML representation is unable to render, please try loading this page with nbviewer.org.</b></div><div class=\"sk-container\" hidden><div class=\"sk-item\"><div class=\"sk-estimator sk-toggleable\"><input class=\"sk-toggleable__control sk-hidden--visually\" id=\"sk-estimator-id-2\" type=\"checkbox\" checked><label for=\"sk-estimator-id-2\" class=\"sk-toggleable__label sk-toggleable__label-arrow\">LogisticRegression</label><div class=\"sk-toggleable__content\"><pre>LogisticRegression()</pre></div></div></div></div></div>"
            ]
          },
          "metadata": {},
          "execution_count": 34
        }
      ]
    },
    {
      "cell_type": "code",
      "source": [
        "p=logr.predict([[25]]) #distance\n",
        "print(p)"
      ],
      "metadata": {
        "colab": {
          "base_uri": "https://localhost:8080/"
        },
        "id": "M-AizgV_W6xZ",
        "outputId": "228db335-fccf-41c6-8c44-9e366d38cc86"
      },
      "execution_count": null,
      "outputs": [
        {
          "output_type": "stream",
          "name": "stdout",
          "text": [
            "[ True]\n"
          ]
        }
      ]
    },
    {
      "cell_type": "code",
      "source": [
        "\n",
        "if p==[True]:\n",
        "  print(\"goal\")\n",
        "else:\n",
        "  print(\"not goal\")"
      ],
      "metadata": {
        "colab": {
          "base_uri": "https://localhost:8080/"
        },
        "id": "1rrA0BCWXKh_",
        "outputId": "1c292ff6-c7de-4ccd-9eb9-5ad305bffa44"
      },
      "execution_count": null,
      "outputs": [
        {
          "output_type": "stream",
          "name": "stdout",
          "text": [
            "goal\n"
          ]
        }
      ]
    },
    {
      "cell_type": "code",
      "source": [
        "#predict 100 distance between 1 and 50\n",
        "#generate distances for prediction\n",
        "dist=np.linspace(1,50,100).reshape(-1,1)\n",
        "print(dist)#distance"
      ],
      "metadata": {
        "colab": {
          "base_uri": "https://localhost:8080/"
        },
        "id": "oxH4WA-aXngc",
        "outputId": "70cde5ca-4b3d-450d-e96b-48ff7f3139b2"
      },
      "execution_count": null,
      "outputs": [
        {
          "output_type": "stream",
          "name": "stdout",
          "text": [
            "[[ 1.        ]\n",
            " [ 1.49494949]\n",
            " [ 1.98989899]\n",
            " [ 2.48484848]\n",
            " [ 2.97979798]\n",
            " [ 3.47474747]\n",
            " [ 3.96969697]\n",
            " [ 4.46464646]\n",
            " [ 4.95959596]\n",
            " [ 5.45454545]\n",
            " [ 5.94949495]\n",
            " [ 6.44444444]\n",
            " [ 6.93939394]\n",
            " [ 7.43434343]\n",
            " [ 7.92929293]\n",
            " [ 8.42424242]\n",
            " [ 8.91919192]\n",
            " [ 9.41414141]\n",
            " [ 9.90909091]\n",
            " [10.4040404 ]\n",
            " [10.8989899 ]\n",
            " [11.39393939]\n",
            " [11.88888889]\n",
            " [12.38383838]\n",
            " [12.87878788]\n",
            " [13.37373737]\n",
            " [13.86868687]\n",
            " [14.36363636]\n",
            " [14.85858586]\n",
            " [15.35353535]\n",
            " [15.84848485]\n",
            " [16.34343434]\n",
            " [16.83838384]\n",
            " [17.33333333]\n",
            " [17.82828283]\n",
            " [18.32323232]\n",
            " [18.81818182]\n",
            " [19.31313131]\n",
            " [19.80808081]\n",
            " [20.3030303 ]\n",
            " [20.7979798 ]\n",
            " [21.29292929]\n",
            " [21.78787879]\n",
            " [22.28282828]\n",
            " [22.77777778]\n",
            " [23.27272727]\n",
            " [23.76767677]\n",
            " [24.26262626]\n",
            " [24.75757576]\n",
            " [25.25252525]\n",
            " [25.74747475]\n",
            " [26.24242424]\n",
            " [26.73737374]\n",
            " [27.23232323]\n",
            " [27.72727273]\n",
            " [28.22222222]\n",
            " [28.71717172]\n",
            " [29.21212121]\n",
            " [29.70707071]\n",
            " [30.2020202 ]\n",
            " [30.6969697 ]\n",
            " [31.19191919]\n",
            " [31.68686869]\n",
            " [32.18181818]\n",
            " [32.67676768]\n",
            " [33.17171717]\n",
            " [33.66666667]\n",
            " [34.16161616]\n",
            " [34.65656566]\n",
            " [35.15151515]\n",
            " [35.64646465]\n",
            " [36.14141414]\n",
            " [36.63636364]\n",
            " [37.13131313]\n",
            " [37.62626263]\n",
            " [38.12121212]\n",
            " [38.61616162]\n",
            " [39.11111111]\n",
            " [39.60606061]\n",
            " [40.1010101 ]\n",
            " [40.5959596 ]\n",
            " [41.09090909]\n",
            " [41.58585859]\n",
            " [42.08080808]\n",
            " [42.57575758]\n",
            " [43.07070707]\n",
            " [43.56565657]\n",
            " [44.06060606]\n",
            " [44.55555556]\n",
            " [45.05050505]\n",
            " [45.54545455]\n",
            " [46.04040404]\n",
            " [46.53535354]\n",
            " [47.03030303]\n",
            " [47.52525253]\n",
            " [48.02020202]\n",
            " [48.51515152]\n",
            " [49.01010101]\n",
            " [49.50505051]\n",
            " [50.        ]]\n"
          ]
        }
      ]
    },
    {
      "cell_type": "code",
      "source": [
        "#make prediction using the model\n",
        "prob=logr.predict_proba(dist)#probabilities-predict\n",
        "print(prob)"
      ],
      "metadata": {
        "colab": {
          "base_uri": "https://localhost:8080/"
        },
        "id": "HRes_O-mYjq4",
        "outputId": "4a2139c7-cb3f-423a-ad90-3e4eab12e1ee"
      },
      "execution_count": null,
      "outputs": [
        {
          "output_type": "stream",
          "name": "stdout",
          "text": [
            "[[1.74682491e-12 1.00000000e+00]\n",
            " [2.65987232e-12 1.00000000e+00]\n",
            " [4.04987155e-12 1.00000000e+00]\n",
            " [6.16684481e-12 1.00000000e+00]\n",
            " [9.38982225e-12 1.00000000e+00]\n",
            " [1.42976742e-11 1.00000000e+00]\n",
            " [2.17705853e-11 1.00000000e+00]\n",
            " [3.31494832e-11 1.00000000e+00]\n",
            " [5.04756237e-11 1.00000000e+00]\n",
            " [7.68576314e-11 1.00000000e+00]\n",
            " [1.17028609e-10 1.00000000e+00]\n",
            " [1.78195458e-10 1.00000000e+00]\n",
            " [2.71332512e-10 1.00000000e+00]\n",
            " [4.13149293e-10 1.00000000e+00]\n",
            " [6.29089003e-10 9.99999999e-01]\n",
            " [9.57893320e-10 9.99999999e-01]\n",
            " [1.45855328e-09 9.99999999e-01]\n",
            " [2.22089169e-09 9.99999998e-01]\n",
            " [3.38167983e-09 9.99999997e-01]\n",
            " [5.14917442e-09 9.99999995e-01]\n",
            " [7.84048082e-09 9.99999992e-01]\n",
            " [1.19384463e-08 9.99999988e-01]\n",
            " [1.81782852e-08 9.99999982e-01]\n",
            " [2.76794857e-08 9.99999972e-01]\n",
            " [4.21466553e-08 9.99999958e-01]\n",
            " [6.41753451e-08 9.99999936e-01]\n",
            " [9.77177157e-08 9.99999902e-01]\n",
            " [1.48791592e-07 9.99999851e-01]\n",
            " [2.26560119e-07 9.99999773e-01]\n",
            " [3.44975712e-07 9.99999655e-01]\n",
            " [5.25283245e-07 9.99999475e-01]\n",
            " [7.99831560e-07 9.99999200e-01]\n",
            " [1.21787709e-06 9.99998782e-01]\n",
            " [1.85442081e-06 9.99998146e-01]\n",
            " [2.82366375e-06 9.99997176e-01]\n",
            " [4.29949497e-06 9.99995701e-01]\n",
            " [6.54668698e-06 9.99993453e-01]\n",
            " [9.96839404e-06 9.99990032e-01]\n",
            " [1.51784716e-05 9.99984822e-01]\n",
            " [2.31115835e-05 9.99976888e-01]\n",
            " [3.51908344e-05 9.99964809e-01]\n",
            " [5.35829578e-05 9.99946417e-01]\n",
            " [8.15867489e-05 9.99918413e-01]\n",
            " [1.24224202e-04 9.99875776e-01]\n",
            " [1.89139887e-04 9.99810860e-01]\n",
            " [2.87968710e-04 9.99712031e-01]\n",
            " [4.38414639e-04 9.99561585e-01]\n",
            " [6.67406833e-04 9.99332593e-01]\n",
            " [1.01588439e-03 9.98984116e-01]\n",
            " [1.54603335e-03 9.98453967e-01]\n",
            " [2.35219417e-03 9.97647806e-01]\n",
            " [3.57721198e-03 9.96422788e-01]\n",
            " [5.43673975e-03 9.94563260e-01]\n",
            " [8.25489031e-03 9.91745110e-01]\n",
            " [1.25154553e-02 9.87484545e-01]\n",
            " [1.89330293e-02 9.81066971e-01]\n",
            " [2.85462260e-02 9.71453774e-01]\n",
            " [4.28274204e-02 9.57172580e-01]\n",
            " [6.37841488e-02 9.36215851e-01]\n",
            " [9.39886712e-02 9.06011329e-01]\n",
            " [1.36412274e-01 8.63587726e-01]\n",
            " [1.93886759e-01 8.06113241e-01]\n",
            " [2.68060303e-01 7.31939697e-01]\n",
            " [3.58007574e-01 6.41992426e-01]\n",
            " [4.59201270e-01 5.40798730e-01]\n",
            " [5.63875377e-01 4.36124623e-01]\n",
            " [6.63151239e-01 3.36848761e-01]\n",
            " [7.49853822e-01 2.50146178e-01]\n",
            " [8.20287513e-01 1.79712487e-01]\n",
            " [8.74215899e-01 1.25784101e-01]\n",
            " [9.13664630e-01 8.63353698e-02]\n",
            " [9.41568282e-01 5.84317178e-02]\n",
            " [9.60839990e-01 3.91600102e-02]\n",
            " [9.73931559e-01 2.60684409e-02]\n",
            " [9.82725177e-01 1.72748226e-02]\n",
            " [9.88587221e-01 1.14127787e-02]\n",
            " [9.92475269e-01 7.52473122e-03]\n",
            " [9.95045394e-01 4.95460556e-03]\n",
            " [9.96740558e-01 3.25944168e-03]\n",
            " [9.97856990e-01 2.14301041e-03]\n",
            " [9.98591559e-01 1.40844133e-03]\n",
            " [9.99074570e-01 9.25430200e-04]\n",
            " [9.99392038e-01 6.07962149e-04]\n",
            " [9.99600642e-01 3.99357712e-04]\n",
            " [9.99737689e-01 2.62311002e-04]\n",
            " [9.99827714e-01 1.72286205e-04]\n",
            " [9.99886846e-01 1.13154305e-04]\n",
            " [9.99925684e-01 7.43160887e-05]\n",
            " [9.99951192e-01 4.88077532e-05]\n",
            " [9.99967945e-01 3.20546460e-05]\n",
            " [9.99978948e-01 2.10518689e-05]\n",
            " [9.99986174e-01 1.38257496e-05]\n",
            " [9.99990920e-01 9.07999568e-06]\n",
            " [9.99994037e-01 5.96323451e-06]\n",
            " [9.99996084e-01 3.91631549e-06]\n",
            " [9.99997428e-01 2.57201293e-06]\n",
            " [9.99998311e-01 1.68915080e-06]\n",
            " [9.99998891e-01 1.10933718e-06]\n",
            " [9.99999271e-01 7.28548765e-07]\n",
            " [9.99999522e-01 4.78468805e-07]]\n"
          ]
        }
      ]
    },
    {
      "cell_type": "code",
      "source": [
        "#plotting actual data-train\n",
        "import matplotlib.pyplot as plt\n",
        "plt.scatter(distance,binary_labels,color='black',label='Data')\n",
        "#plotting test data with prediction-valid/test\n",
        "plt.plot(dist,prob,color='blue',label='LogisticRegression')\n",
        "plt.title('Distance vs probability of scoring a goal')\n",
        "plt.xlabel('Distance')\n",
        "plt.ylabel('Probability')\n",
        "plt.legend()\n",
        "plt.grid(False)\n",
        "plt.show()"
      ],
      "metadata": {
        "colab": {
          "base_uri": "https://localhost:8080/",
          "height": 472
        },
        "id": "UMWxAEfdZNv-",
        "outputId": "54af5624-8bbe-48a4-b208-ad91b0d639b1"
      },
      "execution_count": null,
      "outputs": [
        {
          "output_type": "display_data",
          "data": {
            "text/plain": [
              "<Figure size 640x480 with 1 Axes>"
            ],
            "image/png": "[encoded data removed]"
          },
          "metadata": {}
        }
      ]
    },
    {
      "cell_type": "code",
      "source": [
        "import pandas as pd\n",
        "df=pd.read_csv('/content/demoDT2.csv',sep=',')\n",
        "print(df)\n"
      ],
      "metadata": {
        "colab": {
          "base_uri": "https://localhost:8080/"
        },
        "id": "hXksNgBfcd-d",
        "outputId": "225eb522-c6b9-4cb5-ffeb-604e12fa7e00"
      },
      "execution_count": null,
      "outputs": [
        {
          "output_type": "stream",
          "name": "stdout",
          "text": [
            "   State  Literacy   Cleanliness   Crime_Rate  Good\n",
            "0      A        92            90           54     0\n",
            "1      B        56            67           50     1\n",
            "2      C        78            80           62     0\n",
            "3      D        85            75           48     1\n",
            "4      E        60            82           55     0\n",
            "5      F        72            78           60     1\n",
            "6      G        88            85           45     0\n",
            "7      H        64            70           58     1\n",
            "8      I        90            88           42     0\n",
            "9      J        68            72           65     1\n",
            "10     K        75            79           57     0\n",
            "11     L        82            86           49     1\n",
            "12     M        58            65           63     0\n",
            "13     N        77            76           52     1\n",
            "14     O        94            91           40     0\n",
            "15     P        63            74           61     1\n",
            "16     Q        79            83           47     0\n",
            "17     R        71            68           59     1\n",
            "18     S        86            89           43     0\n",
            "19     T        66            71           64     1\n",
            "20     U        81            81           51     0\n",
            "21     V        70            77           56     1\n",
            "22     W        87            84           46     0\n",
            "23     X        62            69           66     1\n",
            "24     Y        76            73           53     0\n",
            "25     Z        83            87           44     1\n"
          ]
        }
      ]
    },
    {
      "cell_type": "code",
      "source": [
        "import numpy as np\n",
        "cr=np.array(df[' Crime_Rate']).reshape(-1,1)\n",
        "y=np.array(df['Good'])"
      ],
      "metadata": {
        "id": "HGjm--eZfFBh"
      },
      "execution_count": null,
      "outputs": []
    },
    {
      "cell_type": "code",
      "source": [
        "#create the mode\n",
        "from sklearn.linear_model import LogisticRegression\n",
        "model=LogisticRegression()\n",
        "\n"
      ],
      "metadata": {
        "id": "9EyxS0McfuZ3"
      },
      "execution_count": null,
      "outputs": []
    },
    {
      "cell_type": "code",
      "source": [
        "#train model\n",
        "model.fit(cr,y)"
      ],
      "metadata": {
        "colab": {
          "base_uri": "https://localhost:8080/",
          "height": 74
        },
        "id": "xRa0cDSNhJ1i",
        "outputId": "2af80e02-ecec-4c57-a4a7-a45ee7b7790c"
      },
      "execution_count": null,
      "outputs": [
        {
          "output_type": "execute_result",
          "data": {
            "text/plain": [
              "LogisticRegression()"
            ],
            "text/html": [
              "<style>#sk-container-id-4 {color: black;background-color: white;}#sk-container-id-4 pre{padding: 0;}#sk-container-id-4 div.sk-toggleable {background-color: white;}#sk-container-id-4 label.sk-toggleable__label {cursor: pointer;display: block;width: 100%;margin-bottom: 0;padding: 0.3em;box-sizing: border-box;text-align: center;}#sk-container-id-4 label.sk-toggleable__label-arrow:before {content: \"▸\";float: left;margin-right: 0.25em;color: #696969;}#sk-container-id-4 label.sk-toggleable__label-arrow:hover:before {color: black;}#sk-container-id-4 div.sk-estimator:hover label.sk-toggleable__label-arrow:before {color: black;}#sk-container-id-4 div.sk-toggleable__content {max-height: 0;max-width: 0;overflow: hidden;text-align: left;background-color: #f0f8ff;}#sk-container-id-4 div.sk-toggleable__content pre {margin: 0.2em;color: black;border-radius: 0.25em;background-color: #f0f8ff;}#sk-container-id-4 input.sk-toggleable__control:checked~div.sk-toggleable__content {max-height: 200px;max-width: 100%;overflow: auto;}#sk-container-id-4 input.sk-toggleable__control:checked~label.sk-toggleable__label-arrow:before {content: \"▾\";}#sk-container-id-4 div.sk-estimator input.sk-toggleable__control:checked~label.sk-toggleable__label {background-color: #d4ebff;}#sk-container-id-4 div.sk-label input.sk-toggleable__control:checked~label.sk-toggleable__label {background-color: #d4ebff;}#sk-container-id-4 input.sk-hidden--visually {border: 0;clip: rect(1px 1px 1px 1px);clip: rect(1px, 1px, 1px, 1px);height: 1px;margin: -1px;overflow: hidden;padding: 0;position: absolute;width: 1px;}#sk-container-id-4 div.sk-estimator {font-family: monospace;background-color: #f0f8ff;border: 1px dotted black;border-radius: 0.25em;box-sizing: border-box;margin-bottom: 0.5em;}#sk-container-id-4 div.sk-estimator:hover {background-color: #d4ebff;}#sk-container-id-4 div.sk-parallel-item::after {content: \"\";width: 100%;border-bottom: 1px solid gray;flex-grow: 1;}#sk-container-id-4 div.sk-label:hover label.sk-toggleable__label {background-color: #d4ebff;}#sk-container-id-4 div.sk-serial::before {content: \"\";position: absolute;border-left: 1px solid gray;box-sizing: border-box;top: 0;bottom: 0;left: 50%;z-index: 0;}#sk-container-id-4 div.sk-serial {display: flex;flex-direction: column;align-items: center;background-color: white;padding-right: 0.2em;padding-left: 0.2em;position: relative;}#sk-container-id-4 div.sk-item {position: relative;z-index: 1;}#sk-container-id-4 div.sk-parallel {display: flex;align-items: stretch;justify-content: center;background-color: white;position: relative;}#sk-container-id-4 div.sk-item::before, #sk-container-id-4 div.sk-parallel-item::before {content: \"\";position: absolute;border-left: 1px solid gray;box-sizing: border-box;top: 0;bottom: 0;left: 50%;z-index: -1;}#sk-container-id-4 div.sk-parallel-item {display: flex;flex-direction: column;z-index: 1;position: relative;background-color: white;}#sk-container-id-4 div.sk-parallel-item:first-child::after {align-self: flex-end;width: 50%;}#sk-container-id-4 div.sk-parallel-item:last-child::after {align-self: flex-start;width: 50%;}#sk-container-id-4 div.sk-parallel-item:only-child::after {width: 0;}#sk-container-id-4 div.sk-dashed-wrapped {border: 1px dashed gray;margin: 0 0.4em 0.5em 0.4em;box-sizing: border-box;padding-bottom: 0.4em;background-color: white;}#sk-container-id-4 div.sk-label label {font-family: monospace;font-weight: bold;display: inline-block;line-height: 1.2em;}#sk-container-id-4 div.sk-label-container {text-align: center;}#sk-container-id-4 div.sk-container {/* jupyter's `normalize.less` sets `[hidden] { display: none; }` but bootstrap.min.css set `[hidden] { display: none !important; }` so we also need the `!important` here to be able to override the default hidden behavior on the sphinx rendered scikit-learn.org. See: https://github.com/scikit-learn/scikit-learn/issues/21755 */display: inline-block !important;position: relative;}#sk-container-id-4 div.sk-text-repr-fallback {display: none;}</style><div id=\"sk-container-id-4\" class=\"sk-top-container\"><div class=\"sk-text-repr-fallback\"><pre>LogisticRegression()</pre><b>In a Jupyter environment, please rerun this cell to show the HTML representation or trust the notebook. <br />On GitHub, the HTML representation is unable to render, please try loading this page with nbviewer.org.</b></div><div class=\"sk-container\" hidden><div class=\"sk-item\"><div class=\"sk-estimator sk-toggleable\"><input class=\"sk-toggleable__control sk-hidden--visually\" id=\"sk-estimator-id-4\" type=\"checkbox\" checked><label for=\"sk-estimator-id-4\" class=\"sk-toggleable__label sk-toggleable__label-arrow\">LogisticRegression</label><div class=\"sk-toggleable__content\"><pre>LogisticRegression()</pre></div></div></div></div></div>"
            ]
          },
          "metadata": {},
          "execution_count": 76
        }
      ]
    },
    {
      "cell_type": "code",
      "source": [
        "c=int(input(\"Enter crime rate in your city\"))\n",
        "pred=model.predict([[c]])\n",
        "if pred==1:\n",
        "  print(\"good city\")\n",
        "else:\n",
        "  print(\"bad city\")"
      ],
      "metadata": {
        "colab": {
          "base_uri": "https://localhost:8080/"
        },
        "id": "8P5ANUK9hRzP",
        "outputId": "038e3038-3ebe-493d-9dba-0e299220215f"
      },
      "execution_count": null,
      "outputs": [
        {
          "output_type": "stream",
          "name": "stdout",
          "text": [
            "Enter crime rate in your city0\n",
            "bad city\n"
          ]
        }
      ]
    },
    {
      "cell_type": "code",
      "source": [
        "#load libraries\n",
        "import pandas as pd\n",
        "import numpy as np\n",
        "from sklearn.tree import DecisionTreeClassifier\n",
        "from sklearn.tree import export_graphviz,plot_tree\n",
        "from IPython.display import Image"
      ],
      "metadata": {
        "id": "JSLWKCtYB430"
      },
      "execution_count": null,
      "outputs": []
    },
    {
      "cell_type": "code",
      "source": [
        "df=pd.read_csv('/content/demoDT2.csv',sep=\",\")\n",
        "print(df)"
      ],
      "metadata": {
        "colab": {
          "base_uri": "https://localhost:8080/"
        },
        "id": "8WKcjGt1CUCr",
        "outputId": "265050e1-b689-4323-be17-151c57cebb24"
      },
      "execution_count": null,
      "outputs": [
        {
          "output_type": "stream",
          "name": "stdout",
          "text": [
            "   State  Literacy   Cleanliness   Crime_Rate  Good\n",
            "0      A        92            90           54     0\n",
            "1      B        56            67           50     1\n",
            "2      C        78            80           62     0\n",
            "3      D        85            75           48     1\n",
            "4      E        60            82           55     0\n",
            "5      F        72            78           60     1\n",
            "6      G        88            85           45     0\n",
            "7      H        64            70           58     1\n",
            "8      I        90            88           42     0\n",
            "9      J        68            72           65     1\n",
            "10     K        75            79           57     0\n",
            "11     L        82            86           49     1\n",
            "12     M        58            65           63     0\n",
            "13     N        77            76           52     1\n",
            "14     O        94            91           40     0\n",
            "15     P        63            74           61     1\n",
            "16     Q        79            83           47     0\n",
            "17     R        71            68           59     1\n",
            "18     S        86            89           43     0\n",
            "19     T        66            71           64     1\n",
            "20     U        81            81           51     0\n",
            "21     V        70            77           56     1\n",
            "22     W        87            84           46     0\n",
            "23     X        62            69           66     1\n",
            "24     Y        76            73           53     0\n",
            "25     Z        83            87           44     1\n"
          ]
        }
      ]
    },
    {
      "cell_type": "code",
      "source": [
        "feature_cols=['Literacy',' Cleanliness',' Crime_Rate']\n",
        "feature=df[feature_cols]#features\n",
        "Target=df.Good#target variable"
      ],
      "metadata": {
        "id": "CfrPFqOqDWDJ"
      },
      "execution_count": null,
      "outputs": []
    },
    {
      "cell_type": "code",
      "source": [
        "#create decision tree classifier object\n",
        "DT=DecisionTreeClassifier()\n",
        "#train decision tree classifier\n",
        "DT=DT.fit(feature,Target)"
      ],
      "metadata": {
        "id": "wP6GZvssEBQP"
      },
      "execution_count": null,
      "outputs": []
    },
    {
      "cell_type": "code",
      "source": [
        "99#predict the response for test dataset\n",
        "l=int(input(\"Enter Literacy:\"))\n",
        "cl=int(input(\"Enter Cleanliness:\"))\n",
        "cr=int(input(\"Enter Crime rate:\"))\n",
        "pred=DT.predict([[1,cl,cr]])\n",
        "if pred==1:\n",
        "  print(\"Good State\")\n",
        "else:\n",
        "  print(\"Bad State\")"
      ],
      "metadata": {
        "colab": {
          "base_uri": "https://localhost:8080/"
        },
        "id": "Q_FPM0NGEf_X",
        "outputId": "c1d7fbda-60a7-43cb-bf4a-bffd464ce9aa"
      },
      "execution_count": null,
      "outputs": [
        {
          "output_type": "stream",
          "name": "stdout",
          "text": [
            "Enter Literacy:92\n",
            "Enter Cleanliness:90\n",
            "Enter Crime rate:54\n",
            "Bad State\n"
          ]
        },
        {
          "output_type": "stream",
          "name": "stderr",
          "text": [
            "/usr/local/lib/python3.10/dist-packages/sklearn/base.py:439: UserWarning: X does not have valid feature names, but DecisionTreeClassifier was fitted with feature names\n",
            "  warnings.warn(\n"
          ]
        }
      ]
    },
    {
      "cell_type": "code",
      "source": [
        "plot_tree(DT)#plot tree(train model names)"
      ],
      "metadata": {
        "colab": {
          "base_uri": "https://localhost:8080/",
          "height": 632
        },
        "id": "dTgDPyJBFmrC",
        "outputId": "1fe86f8f-4fe0-4003-8b16-a0619bf918c0"
      },
      "execution_count": null,
      "outputs": [
        {
          "output_type": "execute_result",
          "data": {
            "text/plain": [
              "[Text(0.4444444444444444, 0.9, 'x[1] <= 78.5\\ngini = 0.5\\nsamples = 26\\nvalue = [13, 13]'),\n",
              " Text(0.2222222222222222, 0.7, 'x[1] <= 66.0\\ngini = 0.26\\nsamples = 13\\nvalue = [2, 11]'),\n",
              " Text(0.1111111111111111, 0.5, 'gini = 0.0\\nsamples = 1\\nvalue = [1, 0]'),\n",
              " Text(0.3333333333333333, 0.5, 'x[0] <= 74.0\\ngini = 0.153\\nsamples = 12\\nvalue = [1, 11]'),\n",
              " Text(0.2222222222222222, 0.3, 'gini = 0.0\\nsamples = 9\\nvalue = [0, 9]'),\n",
              " Text(0.4444444444444444, 0.3, 'x[1] <= 74.0\\ngini = 0.444\\nsamples = 3\\nvalue = [1, 2]'),\n",
              " Text(0.3333333333333333, 0.1, 'gini = 0.0\\nsamples = 1\\nvalue = [1, 0]'),\n",
              " Text(0.5555555555555556, 0.1, 'gini = 0.0\\nsamples = 2\\nvalue = [0, 2]'),\n",
              " Text(0.6666666666666666, 0.7, 'x[1] <= 85.5\\ngini = 0.26\\nsamples = 13\\nvalue = [11, 2]'),\n",
              " Text(0.5555555555555556, 0.5, 'gini = 0.0\\nsamples = 7\\nvalue = [7, 0]'),\n",
              " Text(0.7777777777777778, 0.5, 'x[1] <= 87.5\\ngini = 0.444\\nsamples = 6\\nvalue = [4, 2]'),\n",
              " Text(0.6666666666666666, 0.3, 'gini = 0.0\\nsamples = 2\\nvalue = [0, 2]'),\n",
              " Text(0.8888888888888888, 0.3, 'gini = 0.0\\nsamples = 4\\nvalue = [4, 0]')]"
            ]
          },
          "metadata": {},
          "execution_count": 22
        },
        {
          "output_type": "display_data",
          "data": {
            "text/plain": [
              "<Figure size 640x480 with 1 Axes>"
            ],
            "image/png": "[encoded data removed]"
          },
          "metadata": {}
        }
      ]
    },
    {
      "cell_type": "code",
      "source": [
        "import pandas as pd\n",
        "import numpy as np\n",
        "from sklearn.ensemble import RandomForestClassifier\n"
      ],
      "metadata": {
        "id": "DzLz2WHcG9xI"
      },
      "execution_count": null,
      "outputs": []
    },
    {
      "cell_type": "code",
      "source": [
        "df=pd.read_csv('/content/demoDT2.csv',sep=\",\")\n"
      ],
      "metadata": {
        "id": "Cdm4kLwhO-R8"
      },
      "execution_count": null,
      "outputs": []
    },
    {
      "cell_type": "code",
      "source": [
        "feature_cols=['Literacy',' Cleanliness',' Crime_Rate']\n",
        "feature=df[feature_cols]#features\n",
        "Target=df.Good#target variable"
      ],
      "metadata": {
        "id": "T1oL3XYVPEfb"
      },
      "execution_count": null,
      "outputs": []
    },
    {
      "cell_type": "code",
      "source": [
        "RF=RandomForestClassifier(n_estimators=10)#100 default\n",
        "RF.fit(feature,Target)"
      ],
      "metadata": {
        "colab": {
          "base_uri": "https://localhost:8080/",
          "height": 74
        },
        "id": "CggBpVB8P-nW",
        "outputId": "73867ffa-af6f-4115-ae8f-7d2c360ac16a"
      },
      "execution_count": null,
      "outputs": [
        {
          "output_type": "execute_result",
          "data": {
            "text/plain": [
              "RandomForestClassifier(n_estimators=10)"
            ],
            "text/html": [
              "<style>#sk-container-id-1 {color: black;background-color: white;}#sk-container-id-1 pre{padding: 0;}#sk-container-id-1 div.sk-toggleable {background-color: white;}#sk-container-id-1 label.sk-toggleable__label {cursor: pointer;display: block;width: 100%;margin-bottom: 0;padding: 0.3em;box-sizing: border-box;text-align: center;}#sk-container-id-1 label.sk-toggleable__label-arrow:before {content: \"▸\";float: left;margin-right: 0.25em;color: #696969;}#sk-container-id-1 label.sk-toggleable__label-arrow:hover:before {color: black;}#sk-container-id-1 div.sk-estimator:hover label.sk-toggleable__label-arrow:before {color: black;}#sk-container-id-1 div.sk-toggleable__content {max-height: 0;max-width: 0;overflow: hidden;text-align: left;background-color: #f0f8ff;}#sk-container-id-1 div.sk-toggleable__content pre {margin: 0.2em;color: black;border-radius: 0.25em;background-color: #f0f8ff;}#sk-container-id-1 input.sk-toggleable__control:checked~div.sk-toggleable__content {max-height: 200px;max-width: 100%;overflow: auto;}#sk-container-id-1 input.sk-toggleable__control:checked~label.sk-toggleable__label-arrow:before {content: \"▾\";}#sk-container-id-1 div.sk-estimator input.sk-toggleable__control:checked~label.sk-toggleable__label {background-color: #d4ebff;}#sk-container-id-1 div.sk-label input.sk-toggleable__control:checked~label.sk-toggleable__label {background-color: #d4ebff;}#sk-container-id-1 input.sk-hidden--visually {border: 0;clip: rect(1px 1px 1px 1px);clip: rect(1px, 1px, 1px, 1px);height: 1px;margin: -1px;overflow: hidden;padding: 0;position: absolute;width: 1px;}#sk-container-id-1 div.sk-estimator {font-family: monospace;background-color: #f0f8ff;border: 1px dotted black;border-radius: 0.25em;box-sizing: border-box;margin-bottom: 0.5em;}#sk-container-id-1 div.sk-estimator:hover {background-color: #d4ebff;}#sk-container-id-1 div.sk-parallel-item::after {content: \"\";width: 100%;border-bottom: 1px solid gray;flex-grow: 1;}#sk-container-id-1 div.sk-label:hover label.sk-toggleable__label {background-color: #d4ebff;}#sk-container-id-1 div.sk-serial::before {content: \"\";position: absolute;border-left: 1px solid gray;box-sizing: border-box;top: 0;bottom: 0;left: 50%;z-index: 0;}#sk-container-id-1 div.sk-serial {display: flex;flex-direction: column;align-items: center;background-color: white;padding-right: 0.2em;padding-left: 0.2em;position: relative;}#sk-container-id-1 div.sk-item {position: relative;z-index: 1;}#sk-container-id-1 div.sk-parallel {display: flex;align-items: stretch;justify-content: center;background-color: white;position: relative;}#sk-container-id-1 div.sk-item::before, #sk-container-id-1 div.sk-parallel-item::before {content: \"\";position: absolute;border-left: 1px solid gray;box-sizing: border-box;top: 0;bottom: 0;left: 50%;z-index: -1;}#sk-container-id-1 div.sk-parallel-item {display: flex;flex-direction: column;z-index: 1;position: relative;background-color: white;}#sk-container-id-1 div.sk-parallel-item:first-child::after {align-self: flex-end;width: 50%;}#sk-container-id-1 div.sk-parallel-item:last-child::after {align-self: flex-start;width: 50%;}#sk-container-id-1 div.sk-parallel-item:only-child::after {width: 0;}#sk-container-id-1 div.sk-dashed-wrapped {border: 1px dashed gray;margin: 0 0.4em 0.5em 0.4em;box-sizing: border-box;padding-bottom: 0.4em;background-color: white;}#sk-container-id-1 div.sk-label label {font-family: monospace;font-weight: bold;display: inline-block;line-height: 1.2em;}#sk-container-id-1 div.sk-label-container {text-align: center;}#sk-container-id-1 div.sk-container {/* jupyter's `normalize.less` sets `[hidden] { display: none; }` but bootstrap.min.css set `[hidden] { display: none !important; }` so we also need the `!important` here to be able to override the default hidden behavior on the sphinx rendered scikit-learn.org. See: https://github.com/scikit-learn/scikit-learn/issues/21755 */display: inline-block !important;position: relative;}#sk-container-id-1 div.sk-text-repr-fallback {display: none;}</style><div id=\"sk-container-id-1\" class=\"sk-top-container\"><div class=\"sk-text-repr-fallback\"><pre>RandomForestClassifier(n_estimators=10)</pre><b>In a Jupyter environment, please rerun this cell to show the HTML representation or trust the notebook. <br />On GitHub, the HTML representation is unable to render, please try loading this page with nbviewer.org.</b></div><div class=\"sk-container\" hidden><div class=\"sk-item\"><div class=\"sk-estimator sk-toggleable\"><input class=\"sk-toggleable__control sk-hidden--visually\" id=\"sk-estimator-id-1\" type=\"checkbox\" checked><label for=\"sk-estimator-id-1\" class=\"sk-toggleable__label sk-toggleable__label-arrow\">RandomForestClassifier</label><div class=\"sk-toggleable__content\"><pre>RandomForestClassifier(n_estimators=10)</pre></div></div></div></div></div>"
            ]
          },
          "metadata": {},
          "execution_count": 35
        }
      ]
    },
    {
      "cell_type": "code",
      "source": [
        "99#predict the response for test dataset\n",
        "l=int(input(\"Enter Literacy:\"))\n",
        "cl=int(input(\"Enter Cleanliness:\"))\n",
        "cr=int(input(\"Enter Crime rate:\"))\n",
        "pred=DT.predict([[1,cl,cr]])\n",
        "if pred==1:\n",
        "  print(\"Good State\")\n",
        "else:\n",
        "  print(\"Bad State\")5"
      ],
      "metadata": {
        "colab": {
          "base_uri": "https://localhost:8080/"
        },
        "id": "G6AbXiwVQPRZ",
        "outputId": "c04db06c-fbeb-49dd-ede0-ddb4982b4bee"
      },
      "execution_count": null,
      "outputs": [
        {
          "output_type": "stream",
          "name": "stdout",
          "text": [
            "Enter Literacy:56\n",
            "Enter Cleanliness:67\n",
            "Enter Crime rate:50\n",
            "Good State\n"
          ]
        },
        {
          "output_type": "stream",
          "name": "stderr",
          "text": [
            "/usr/local/lib/python3.10/dist-packages/sklearn/base.py:439: UserWarning: X does not have valid feature names, but DecisionTreeClassifier was fitted with feature names\n",
            "  warnings.warn(\n"
          ]
        }
      ]
    },
    {
      "cell_type": "code",
      "source": [
        "#saving all the decision tree\n",
        "import os\n",
        "output_dir=\"tree_visualizations\"\n",
        "os.makedirs(output_dir,exist_ok=True)"
      ],
      "metadata": {
        "id": "2vEkNWROQkjm"
      },
      "execution_count": null,
      "outputs": []
    },
    {
      "cell_type": "code",
      "source": [
        "RF.estimators_#model name=RF"
      ],
      "metadata": {
        "colab": {
          "base_uri": "https://localhost:8080/"
        },
        "id": "foY2pt6uRT5R",
        "outputId": "7f8a1fd4-3c67-4490-f6ff-8cfd5c96c966"
      },
      "execution_count": null,
      "outputs": [
        {
          "output_type": "execute_result",
          "data": {
            "text/plain": [
              "[DecisionTreeClassifier(max_features='sqrt', random_state=2138528593),\n",
              " DecisionTreeClassifier(max_features='sqrt', random_state=1110097390),\n",
              " DecisionTreeClassifier(max_features='sqrt', random_state=803165893),\n",
              " DecisionTreeClassifier(max_features='sqrt', random_state=1170945513),\n",
              " DecisionTreeClassifier(max_features='sqrt', random_state=1679170546),\n",
              " DecisionTreeClassifier(max_features='sqrt', random_state=150306986),\n",
              " DecisionTreeClassifier(max_features='sqrt', random_state=961274156),\n",
              " DecisionTreeClassifier(max_features='sqrt', random_state=1626168104),\n",
              " DecisionTreeClassifier(max_features='sqrt', random_state=1721618256),\n",
              " DecisionTreeClassifier(max_features='sqrt', random_state=1224725030)]"
            ]
          },
          "metadata": {},
          "execution_count": 39
        }
      ]
    },
    {
      "cell_type": "code",
      "source": [],
      "metadata": {
        "id": "zBhuRY_cRbKo"
      },
      "execution_count": null,
      "outputs": []
    }
  ]
}