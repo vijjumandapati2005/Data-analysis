{
  "cells": [
    {
      "cell_type": "code",
      "execution_count": 9,
      "metadata": {
        "colab": {
          "base_uri": "https://localhost:8080/"
        },
        "id": "Cx4kH0CQ6GQE",
        "outputId": "798aa9da-ae58-4074-837e-d1bb06f41eae"
      },
      "outputs": [
        {
          "output_type": "stream",
          "name": "stdout",
          "text": [
            "Found 1818 images belonging to 2 classes.\n",
            "Found 454 images belonging to 2 classes.\n",
            "Found 60 images belonging to 1 classes.\n",
            "Epoch 1/5\n",
            "57/57 [==============================] - 229s 4s/step - loss: 0.5294 - accuracy: 0.7811 - val_loss: 0.2985 - val_accuracy: 0.8899\n",
            "Epoch 2/5\n",
            "57/57 [==============================] - 227s 4s/step - loss: 0.2235 - accuracy: 0.9169 - val_loss: 0.1861 - val_accuracy: 0.9295\n",
            "Epoch 3/5\n",
            "57/57 [==============================] - 226s 4s/step - loss: 0.1281 - accuracy: 0.9543 - val_loss: 0.1236 - val_accuracy: 0.9537\n",
            "Epoch 4/5\n",
            "57/57 [==============================] - 224s 4s/step - loss: 0.0548 - accuracy: 0.9818 - val_loss: 0.0861 - val_accuracy: 0.9824\n",
            "Epoch 5/5\n",
            "57/57 [==============================] - 226s 4s/step - loss: 0.0307 - accuracy: 0.9906 - val_loss: 0.0754 - val_accuracy: 0.9780\n"
          ]
        }
      ],
      "source": [
        "import tensorflow as tf\n",
        "from tensorflow import keras\n",
        "from tensorflow.keras import layers\n",
        "from tensorflow.keras.preprocessing.image import ImageDataGenerator\n",
        "#define image size and batch size\n",
        "IMG_SIZE=224\n",
        "BATCH_SIZE=32\n",
        "#defining data generators for train,validationand test sets\n",
        "train_datagen=ImageDataGenerator(\n",
        "    rescale=1./255,\n",
        "    validation_split=0.2\n",
        ")\n",
        "train_generator=train_datagen.flow_from_directory(\n",
        "    \"/content/drive/MyDrive/Brain_Tumor_Detection/train\",\n",
        "    target_size=(IMG_SIZE, IMG_SIZE),\n",
        "    batch_size=BATCH_SIZE,\n",
        "    class_mode='binary',\n",
        "    subset='training'\n",
        "\n",
        ")\n",
        "val_generator=train_datagen.flow_from_directory(\n",
        "    \"/content/drive/MyDrive/Brain_Tumor_Detection/train\",\n",
        "    target_size=(IMG_SIZE, IMG_SIZE),\n",
        "    batch_size=BATCH_SIZE,\n",
        "    class_mode='binary',\n",
        "    subset='validation'\n",
        ")\n",
        "test_datagen=ImageDataGenerator(rescale=1./225)\n",
        "test_datagen=test_datagen.flow_from_directory(\n",
        "    \"/content/drive/MyDrive/Brain_Tumor_Detection/test\",\n",
        "    target_size=(IMG_SIZE, IMG_SIZE),\n",
        "    batch_size=BATCH_SIZE,\n",
        "    class_mode='binary'\n",
        "\n",
        ")\n",
        "# Define the model\n",
        "model = keras.Sequential([\n",
        "    layers.Conv2D(32, (3, 3), activation='relu', input_shape=(IMG_SIZE, IMG_SIZE, 3)),\n",
        "    layers.MaxPooling2D((2, 2)),\n",
        "    layers.Conv2D(64, (3, 3), activation='relu'),\n",
        "    layers.MaxPooling2D((2, 2)),\n",
        "    layers.Conv2D(128, (3, 3), activation='relu'),\n",
        "    layers.MaxPooling2D((2, 2)),\n",
        "    layers.Flatten(),\n",
        "    layers.Dense(128, activation='relu'),\n",
        "    layers.Dense(1, activation='sigmoid')\n",
        "])\n",
        "#compile the model\n",
        "model.compile(optimizer='adam',loss='binary_crossentropy',metrics=['accuracy'])\n",
        "history=model.fit(train_generator,validation_data=val_generator,epochs=5)\n"
      ]
    },
    {
      "cell_type": "code",
      "execution_count": 8,
      "metadata": {
        "id": "t3gy7tU7Abf7"
      },
      "outputs": [],
      "source": [
        "#compile the model\n",
        "model.compile(optimizer='adam',loss='binary_crossentropy',metrics=['accuracy'])"
      ]
    },
    {
      "cell_type": "code",
      "execution_count": null,
      "metadata": {
        "colab": {
          "background_save": true,
          "base_uri": "https://localhost:8080/"
        },
        "id": "_c_cZq19AiWy",
        "outputId": "0484cacc-a818-46eb-ef3e-0e6bcf210ab5"
      },
      "outputs": [
        {
          "name": "stdout",
          "output_type": "stream",
          "text": [
            "Epoch 1/5\n",
            "57/57 [==============================] - 573s 10s/step - loss: 0.5692 - accuracy: 0.7574 - val_loss: 0.3823 - val_accuracy: 0.8436\n",
            "Epoch 2/5\n",
            "57/57 [==============================] - 228s 4s/step - loss: 0.2593 - accuracy: 0.9010 - val_loss: 0.2178 - val_accuracy: 0.9031\n",
            "Epoch 3/5\n",
            "57/57 [==============================] - 232s 4s/step - loss: 0.1363 - accuracy: 0.9532 - val_loss: 0.1242 - val_accuracy: 0.9493\n",
            "Epoch 4/5\n",
            "57/57 [==============================] - 227s 4s/step - loss: 0.0650 - accuracy: 0.9813 - val_loss: 0.1011 - val_accuracy: 0.9648\n",
            "Epoch 5/5\n",
            "57/57 [==============================] - 230s 4s/step - loss: 0.0402 - accuracy: 0.9890 - val_loss: 0.0725 - val_accuracy: 0.9780\n"
          ]
        }
      ],
      "source": [
        "history=model.fit(train_generator,validation_data=val_generator,epochs=5)\n"
      ]
    },
    {
      "cell_type": "code",
      "execution_count": null,
      "metadata": {
        "id": "-R4HX4M28U5n"
      },
      "outputs": [],
      "source": [
        "import tensorflow as tf\n",
        "from tensorflow import keras\n",
        "from tensorflow.keras import layers\n",
        "from tensorflow.keras.preprocessing.image import ImageDataGenerator\n",
        "#define image size and batch size\n",
        "IMG_SIZE=224\n",
        "BATCH_SIZE=32\n",
        "#defining data generators for train,validationand test sets\n",
        "train_datagen=ImageDataGenerator(\n",
        "    rescale=1./255,\n",
        "    validation_split=0.2\n",
        ")"
      ]
    },
    {
      "cell_type": "code",
      "execution_count": 10,
      "metadata": {
        "colab": {
          "base_uri": "https://localhost:8080/"
        },
        "id": "03MNhS78HW6W",
        "outputId": "99fcdd61-4f1c-49d2-c462-b0e67a130bfe"
      },
      "outputs": [
        {
          "output_type": "stream",
          "name": "stderr",
          "text": [
            "/usr/local/lib/python3.10/dist-packages/keras/src/engine/training.py:3103: UserWarning: You are saving your model as an HDF5 file via `model.save()`. This file format is considered legacy. We recommend using instead the native Keras format, e.g. `model.save('my_model.keras')`.\n",
            "  saving_api.save_model(\n"
          ]
        }
      ],
      "source": [
        "model.save(\"Model.h5\",\"label.txt\")\n"
      ]
    },
    {
      "cell_type": "code",
      "source": [
        "from tensorflow.keras.models import load_model\n",
        "from tensorflow.keras.preprocessing import image\n",
        "import numpy as np\n",
        "model=load_model('/content/Model.h5')\n",
        "test_image_path='/content/y1.jpg'\n",
        "img=image.load_img(test_image_path,target_size=(224,224,3))\n",
        "img_array=image.img_to_array(img)\n",
        "img_array=np.expand_dims(img_array,axis=0)\n",
        "img_array/=255.\n",
        "prediction=model.predict(img_array)\n",
        "if prediction < 0.5:\n",
        "  print(\"Prediction: No Tumour (Probability:\",prediction[0][0],\")\")\n",
        "else:\n",
        "  print(\"Prediction: Tumour present (Probability:\",prediction[0][0],\")\")"
      ],
      "metadata": {
        "colab": {
          "base_uri": "https://localhost:8080/"
        },
        "id": "jygy-jp-IYK-",
        "outputId": "dab78ea0-61ba-4ac9-f566-7eb01e277b9a"
      },
      "execution_count": 11,
      "outputs": [
        {
          "output_type": "stream",
          "name": "stdout",
          "text": [
            "1/1 [==============================] - 0s 181ms/step\n",
            "Prediction: Tumour present (Probability: 1.0 )\n"
          ]
        }
      ]
    }
  ],
  "metadata": {
    "colab": {
      "provenance": []
    },
    "kernelspec": {
      "display_name": "Python 3",
      "name": "python3"
    },
    "language_info": {
      "name": "python"
    }
  },
  "nbformat": 4,
  "nbformat_minor": 0
}