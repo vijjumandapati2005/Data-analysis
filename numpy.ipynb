{
  "nbformat": 4,
  "nbformat_minor": 0,
  "metadata": {
    "colab": {
      "provenance": []
    },
    "kernelspec": {
      "name": "python3",
      "display_name": "Python 3"
    },
    "language_info": {
      "name": "python"
    }
  },
  "cells": [
    {
      "cell_type": "code",
      "execution_count": null,
      "metadata": {
        "id": "3AQAvuL_dfwW",
        "colab": {
          "base_uri": "https://localhost:8080/"
        },
        "outputId": "1f26cb93-d483-4b70-942d-18d3b934134e"
      },
      "outputs": [
        {
          "output_type": "stream",
          "name": "stdout",
          "text": [
            "[1 2 3 4 5]\n"
          ]
        }
      ],
      "source": [
        "import numpy as np #day-1: 23/02/2024\n",
        "# Creating arrays\n",
        "arr = np.array([1, 2, 3, 4, 5], dtype=int)\n",
        "print(arr)\n",
        "\n"
      ]
    },
    {
      "cell_type": "code",
      "source": [
        "zeros_arr = np.zeros((3, 3), dtype=float)\n",
        "print(zeros_arr)\n",
        "ones_arr = np.ones((2, 2), dtype=int)\n",
        "print(ones_arr)"
      ],
      "metadata": {
        "colab": {
          "base_uri": "https://localhost:8080/"
        },
        "id": "CzNIEhymqy3z",
        "outputId": "b3a9bfac-0488-4d28-9cf7-8a82f6afa5fd"
      },
      "execution_count": null,
      "outputs": [
        {
          "output_type": "stream",
          "name": "stdout",
          "text": [
            "[[0. 0. 0.]\n",
            " [0. 0. 0.]\n",
            " [0. 0. 0.]]\n",
            "[[1 1]\n",
            " [1 1]]\n"
          ]
        }
      ]
    },
    {
      "cell_type": "code",
      "source": [],
      "metadata": {
        "id": "EkoI9HqrRkF3"
      },
      "execution_count": null,
      "outputs": []
    },
    {
      "cell_type": "code",
      "source": [
        "a= np.arange(0,100,5)\n",
        "print(a)\n",
        "a=np.savetxt(\"/content/data.txt\", a)\n"
      ],
      "metadata": {
        "colab": {
          "base_uri": "https://localhost:8080/"
        },
        "id": "sHnz8UecsDUR",
        "outputId": "f09fe91d-b233-4c87-db1a-fda598e0e89f"
      },
      "execution_count": null,
      "outputs": [
        {
          "output_type": "stream",
          "name": "stdout",
          "text": [
            "[ 0  5 10 15 20 25 30 35 40 45 50 55 60 65 70 75 80 85 90 95]\n"
          ]
        }
      ]
    },
    {
      "cell_type": "code",
      "source": [
        "#array manipulation\n",
        "arr = np.array([1, 2, 3, 4, 5])\n",
        "reshaped_arr = arr.reshape(5, 1)\n",
        "print(reshaped_arr)\n",
        "sliced_arr = arr[2:4]\n",
        "print(sliced_arr)\n",
        "a=np.array([1,2,3,4,5,6,7,8])\n",
        "b =a.T\n",
        "print(b)\n",
        "b=np.split(a,4)\n",
        "print(b)"
      ],
      "metadata": {
        "colab": {
          "base_uri": "https://localhost:8080/"
        },
        "id": "Oo_VqbAXskyN",
        "outputId": "2943905d-9279-41e9-a46f-dd96e1a27218"
      },
      "execution_count": null,
      "outputs": [
        {
          "output_type": "stream",
          "name": "stdout",
          "text": [
            "[[1]\n",
            " [2]\n",
            " [3]\n",
            " [4]\n",
            " [5]]\n",
            "[3 4]\n",
            "[1 2 3 4 5 6 7 8]\n",
            "[array([1, 2]), array([3, 4]), array([5, 6]), array([7, 8])]\n"
          ]
        }
      ]
    },
    {
      "cell_type": "code",
      "source": [
        "a = np.array([[1,2],[3,4]])\n",
        "b = np.array([[5,6],[7,8]])\n",
        "c=np.dot(a,b)\n",
        "print(c)\n",
        "d = np.linalg.eig(c)\n",
        "print(d)\n"
      ],
      "metadata": {
        "colab": {
          "base_uri": "https://localhost:8080/"
        },
        "id": "_UDUEWULwIDF",
        "outputId": "47bc1128-1c6d-4d43-e46e-d6f63c6a4d81"
      },
      "execution_count": null,
      "outputs": [
        {
          "output_type": "stream",
          "name": "stdout",
          "text": [
            "[[19 22]\n",
            " [43 50]]\n",
            "EigResult(eigenvalues=array([5.80198014e-02, 6.89419802e+01]), eigenvectors=array([[-0.75781077, -0.40313049],\n",
            "       [ 0.65247439, -0.91514251]]))\n"
          ]
        }
      ]
    },
    {
      "cell_type": "code",
      "source": [
        "import numpy as np\n",
        "data = np.loadtxt(\"/content/drive/MyDrive/Dataset/dap1.txt\",dtype=int)\n",
        "d = np.savetxt(\"/content/dap1.txt\",data)\n",
        "print(d)\n",
        "print(data)"
      ],
      "metadata": {
        "colab": {
          "base_uri": "https://localhost:8080/"
        },
        "id": "zUaX42p-zXUH",
        "outputId": "41e12496-a000-4d49-8902-1b64560c181f"
      },
      "execution_count": null,
      "outputs": [
        {
          "output_type": "stream",
          "name": "stdout",
          "text": [
            "None\n",
            "[[1 2 3 4 5]\n",
            " [3 4 5 6 7]]\n"
          ]
        },
        {
          "output_type": "stream",
          "name": "stderr",
          "text": [
            "<ipython-input-10-7869d7a06dfe>:2: DeprecationWarning: loadtxt(): Parsing an integer via a float is deprecated.  To avoid this warning, you can:\n",
            "    * make sure the original data is stored as integers.\n",
            "    * use the `converters=` keyword argument.  If you only use\n",
            "      NumPy 1.23 or later, `converters=float` will normally work.\n",
            "    * Use `np.loadtxt(...).astype(np.int64)` parsing the file as\n",
            "      floating point and then convert it.  (On all NumPy versions.)\n",
            "  (Deprecated NumPy 1.23)\n",
            "  data = np.loadtxt(\"/content/drive/MyDrive/Dataset/dap1.txt\",dtype=int)\n"
          ]
        }
      ]
    },
    {
      "cell_type": "code",
      "source": [
        "\n",
        "a=np.random.rand()\n",
        "print(a)\n",
        "b=np.random.randint(0,200)\n",
        "print(b)"
      ],
      "metadata": {
        "colab": {
          "base_uri": "https://localhost:8080/"
        },
        "id": "gIY5TPXLR8mP",
        "outputId": "f06536a6-ad06-45d0-f6be-659e2d23a144"
      },
      "execution_count": null,
      "outputs": [
        {
          "output_type": "stream",
          "name": "stdout",
          "text": [
            "0.4555754961997577\n",
            "67\n"
          ]
        }
      ]
    },
    {
      "cell_type": "code",
      "source": [
        "a=np.linspace(0.8,2,5)\n",
        "print(a)"
      ],
      "metadata": {
        "colab": {
          "base_uri": "https://localhost:8080/"
        },
        "id": "7hnQXPyiUKRQ",
        "outputId": "396189d5-2cac-4a3a-fcd7-7a38ddf91509"
      },
      "execution_count": null,
      "outputs": [
        {
          "output_type": "stream",
          "name": "stdout",
          "text": [
            "[0.8 1.1 1.4 1.7 2. ]\n"
          ]
        }
      ]
    },
    {
      "cell_type": "code",
      "source": [
        "from numpy import random\n",
        "a=np.ones(((2,3)),dtype=int)\n",
        "print(a)\n",
        "print(a.sum())\n",
        "print(a.sum(axis=0))\n",
        "print(a.min())\n",
        "print(a.max())"
      ],
      "metadata": {
        "colab": {
          "base_uri": "https://localhost:8080/"
        },
        "id": "mULNvAQKZKTs",
        "outputId": "f738b784-a250-4842-d6a2-2df1a2b5ce6b"
      },
      "execution_count": null,
      "outputs": [
        {
          "output_type": "stream",
          "name": "stdout",
          "text": [
            "[[1 1 1]\n",
            " [1 1 1]]\n",
            "6\n",
            "[2 2 2]\n",
            "1\n",
            "1\n"
          ]
        }
      ]
    },
    {
      "cell_type": "code",
      "source": [
        "a=np.floor(np.random.random((2,2)))\n",
        "print(a)\n"
      ],
      "metadata": {
        "colab": {
          "base_uri": "https://localhost:8080/"
        },
        "id": "PgHV5VTaauyA",
        "outputId": "6b88df12-c114-4478-df54-4e56631c56fd"
      },
      "execution_count": null,
      "outputs": [
        {
          "output_type": "stream",
          "name": "stdout",
          "text": [
            "[[1. 1. 1. 1. 1. 1. 1. 1. 1. 1. 1. 1.]\n",
            " [1. 1. 1. 1. 1. 1. 1. 1. 1. 1. 1. 1.]]\n"
          ]
        }
      ]
    },
    {
      "cell_type": "code",
      "source": [
        "a=np.array([[1,2],[3,4]])\n",
        "print(a.cumsum(axis=0))\n",
        "print(a.cumsum(axis=1))\n"
      ],
      "metadata": {
        "colab": {
          "base_uri": "https://localhost:8080/"
        },
        "id": "V6DZxpczekzH",
        "outputId": "36556e62-b09b-40e3-a221-2f28660d0550"
      },
      "execution_count": null,
      "outputs": [
        {
          "output_type": "stream",
          "name": "stdout",
          "text": [
            "[[1 2]\n",
            " [4 6]]\n"
          ]
        }
      ]
    },
    {
      "cell_type": "code",
      "source": [
        "a=np.array([[1,2],[3,4]])\n",
        "print(a.max(axis=0))\n",
        "print(a.max(axis=1))\n",
        "print(a.min(axis=0))\n",
        "print(a.min(axis=1))"
      ],
      "metadata": {
        "colab": {
          "base_uri": "https://localhost:8080/"
        },
        "id": "ozZA0vjyew3E",
        "outputId": "5fc5e1b1-b391-4086-a90f-880d257595a7"
      },
      "execution_count": null,
      "outputs": [
        {
          "output_type": "stream",
          "name": "stdout",
          "text": [
            "[3 4]\n",
            "[2 4]\n",
            "[1 2]\n",
            "[1 3]\n"
          ]
        }
      ]
    },
    {
      "cell_type": "code",
      "source": [
        "a=np.array([1,2,3,4,5,6])\n",
        "print(a.resize(3,2))\n",
        "print(a)\n",
        "print(a.shape)"
      ],
      "metadata": {
        "colab": {
          "base_uri": "https://localhost:8080/"
        },
        "id": "V96If6ALfCv-",
        "outputId": "7086667d-fef2-40c1-db54-a40c701a76b2"
      },
      "execution_count": null,
      "outputs": [
        {
          "output_type": "stream",
          "name": "stdout",
          "text": [
            "None\n",
            "[[1 2]\n",
            " [3 4]\n",
            " [5 6]]\n",
            "(3, 2)\n"
          ]
        }
      ]
    },
    {
      "cell_type": "code",
      "source": [
        "a=np.array([1,2,3,4,5,6])\n",
        "print(a.resize(3,2))\n",
        "b=np.array([6,5,4,3,2,1])\n",
        "print(b.resize(3,2))\n",
        "print(np.vstack((a,b)))\n",
        "print(np.hstack((a,b)))\n"
      ],
      "metadata": {
        "colab": {
          "base_uri": "https://localhost:8080/"
        },
        "id": "JMQaucs4hMc1",
        "outputId": "5eda6c05-772e-431a-ad02-904ef1642863"
      },
      "execution_count": null,
      "outputs": [
        {
          "output_type": "stream",
          "name": "stdout",
          "text": [
            "None\n",
            "None\n",
            "[[1 2]\n",
            " [3 4]\n",
            " [5 6]\n",
            " [6 5]\n",
            " [4 3]\n",
            " [2 1]]\n",
            "[[1 2 6 5]\n",
            " [3 4 4 3]\n",
            " [5 6 2 1]]\n"
          ]
        }
      ]
    },
    {
      "cell_type": "code",
      "source": [
        "a=np.arange(30).reshape(2,3,5)\n",
        "print(a)\n",
        "print(np.dstack(a))#no.of rows become no.of group\n",
        "#column becomes rows\n",
        "#group become column\n"
      ],
      "metadata": {
        "colab": {
          "base_uri": "https://localhost:8080/"
        },
        "id": "PcFVOx8Vhgg6",
        "outputId": "48947684-3ce4-4c32-a8ca-e0d223ef0d54"
      },
      "execution_count": null,
      "outputs": [
        {
          "output_type": "stream",
          "name": "stdout",
          "text": [
            "[[[ 0  1  2  3  4]\n",
            "  [ 5  6  7  8  9]\n",
            "  [10 11 12 13 14]]\n",
            "\n",
            " [[15 16 17 18 19]\n",
            "  [20 21 22 23 24]\n",
            "  [25 26 27 28 29]]]\n",
            "[[[ 0 15]\n",
            "  [ 1 16]\n",
            "  [ 2 17]\n",
            "  [ 3 18]\n",
            "  [ 4 19]]\n",
            "\n",
            " [[ 5 20]\n",
            "  [ 6 21]\n",
            "  [ 7 22]\n",
            "  [ 8 23]\n",
            "  [ 9 24]]\n",
            "\n",
            " [[10 25]\n",
            "  [11 26]\n",
            "  [12 27]\n",
            "  [13 28]\n",
            "  [14 29]]]\n"
          ]
        }
      ]
    },
    {
      "cell_type": "code",
      "source": [
        "al= np.eye(4)# day-2: 24/02/2024\n",
        "print(al)"
      ],
      "metadata": {
        "id": "NjfAFs0_hGVL",
        "colab": {
          "base_uri": "https://localhost:8080/"
        },
        "outputId": "1e194592-92c3-4306-8663-713af2857123"
      },
      "execution_count": null,
      "outputs": [
        {
          "output_type": "stream",
          "name": "stdout",
          "text": [
            "[[1. 0. 0. 0.]\n",
            " [0. 1. 0. 0.]\n",
            " [0. 0. 1. 0.]\n",
            " [0. 0. 0. 1.]]\n"
          ]
        }
      ]
    },
    {
      "cell_type": "code",
      "source": [
        "a=np.full((3,3),30)\n",
        "print(a)\n",
        "print(a.itemsize)"
      ],
      "metadata": {
        "colab": {
          "base_uri": "https://localhost:8080/"
        },
        "id": "TuSYOhnYacUM",
        "outputId": "858aed31-bd65-49ed-a955-1e1479820c79"
      },
      "execution_count": null,
      "outputs": [
        {
          "output_type": "stream",
          "name": "stdout",
          "text": [
            "[[30 30 30]\n",
            " [30 30 30]\n",
            " [30 30 30]]\n",
            "8\n"
          ]
        }
      ]
    },
    {
      "cell_type": "code",
      "source": [
        "x=[1,2,3]\n",
        "a=np.asarray(x)#symmetric matrix\n",
        "print(a)\n",
        "print(type(a))"
      ],
      "metadata": {
        "colab": {
          "base_uri": "https://localhost:8080/"
        },
        "id": "vR2vSiv2ajC9",
        "outputId": "dbeb9af7-b14d-4424-b82f-df3d57b5525b"
      },
      "execution_count": null,
      "outputs": [
        {
          "output_type": "stream",
          "name": "stdout",
          "text": [
            "[1 2 3]\n",
            "<class 'numpy.ndarray'>\n"
          ]
        }
      ]
    },
    {
      "cell_type": "code",
      "source": [
        "x=np.array([1,4,0],float)\n",
        "y=np.array([2,2,1],float)#sum of multiplication\n",
        "print(np.inner(x,y))#[1*2=2+4*2=8+0=10]\n",
        "print(np.outer(x,y))#1*2,1*2,1*1\n",
        "print(np.cross(x,y))"
      ],
      "metadata": {
        "colab": {
          "base_uri": "https://localhost:8080/"
        },
        "id": "wSqQbh76a0LO",
        "outputId": "1e003418-f336-4d9f-a441-20328a36b857"
      },
      "execution_count": null,
      "outputs": [
        {
          "output_type": "stream",
          "name": "stdout",
          "text": [
            "10.0\n",
            "[[2. 2. 1.]\n",
            " [8. 8. 4.]\n",
            " [0. 0. 0.]]\n",
            "[ 4. -1. -6.]\n"
          ]
        }
      ]
    },
    {
      "cell_type": "code",
      "source": [
        "a=np.array([1.1,2.1,3.2,4.1,5.1,6.1,7.1])\n",
        "print(np.rint(a))"
      ],
      "metadata": {
        "colab": {
          "base_uri": "https://localhost:8080/"
        },
        "id": "kdZCm9jAdGij",
        "outputId": "41fa2bd6-de2b-4576-ec26-ad1553f6387c"
      },
      "execution_count": null,
      "outputs": [
        {
          "output_type": "stream",
          "name": "stdout",
          "text": [
            "[1. 2. 3. 4. 5. 6. 7.]\n"
          ]
        }
      ]
    },
    {
      "cell_type": "code",
      "source": [
        "\n",
        "a=np.array([1,2,3,4,5])\n",
        "b=np.array([5,4,3,2,1])\n",
        "print(np.true_divide(a,b))"
      ],
      "metadata": {
        "colab": {
          "base_uri": "https://localhost:8080/"
        },
        "id": "zMsf1Z9KdpZS",
        "outputId": "93cd621c-04f3-4e4e-a965-de0b072fb766"
      },
      "execution_count": null,
      "outputs": [
        {
          "output_type": "stream",
          "name": "stdout",
          "text": [
            "[0.2 0.5 1.  2.  5. ]\n"
          ]
        }
      ]
    },
    {
      "cell_type": "code",
      "source": [
        "a=np.array([1,2,4,4,5,6])\n",
        "print(np.unique(a))"
      ],
      "metadata": {
        "colab": {
          "base_uri": "https://localhost:8080/"
        },
        "id": "rRdwkQ6GeT5a",
        "outputId": "fe5c1785-90c8-48e5-e87d-3c887684a855"
      },
      "execution_count": null,
      "outputs": [
        {
          "output_type": "stream",
          "name": "stdout",
          "text": [
            "[1 2 4 5 6]\n"
          ]
        }
      ]
    },
    {
      "cell_type": "code",
      "source": [
        "a=np.array([[1,2,3,4],[1,2,3,4]])\n",
        "b=np.array([[1,2,3,4],[1,2,3,4]])\n",
        "print(np.union1d(a,b))"
      ],
      "metadata": {
        "colab": {
          "base_uri": "https://localhost:8080/"
        },
        "id": "bvsLoGJUeypL",
        "outputId": "b5a4e6f0-05ed-4002-a9b5-89212ff73591"
      },
      "execution_count": null,
      "outputs": [
        {
          "output_type": "stream",
          "name": "stdout",
          "text": [
            "[1 2 3 4 9]\n"
          ]
        }
      ]
    },
    {
      "cell_type": "code",
      "source": [
        "a=np.array([[1,2,3,4],[1,6,3,4]])\n",
        "b=np.array([[1,2,45,4],[1,2,3,4]])\n",
        "print(np.intersect1d(a,b))\n",
        "print(np.setdiff1d(a,b))"
      ],
      "metadata": {
        "colab": {
          "base_uri": "https://localhost:8080/"
        },
        "id": "SP9IcmFHf6wK",
        "outputId": "84263154-d170-4607-e37d-cd5abfb364d9"
      },
      "execution_count": null,
      "outputs": [
        {
          "output_type": "stream",
          "name": "stdout",
          "text": [
            "[1 2 3 4]\n",
            "[6]\n"
          ]
        }
      ]
    },
    {
      "cell_type": "code",
      "source": [
        "a=8\n",
        "b=6\n",
        "c=np.hypot(a,b)\n",
        "print(c)"
      ],
      "metadata": {
        "colab": {
          "base_uri": "https://localhost:8080/"
        },
        "id": "czoSc2HHhGTP",
        "outputId": "1c18362a-f97d-4718-dc0f-776127bc677d"
      },
      "execution_count": null,
      "outputs": [
        {
          "output_type": "stream",
          "name": "stdout",
          "text": [
            "10.0\n"
          ]
        }
      ]
    },
    {
      "cell_type": "code",
      "source": [
        "x=np.sin(0)\n",
        "print(x)"
      ],
      "metadata": {
        "colab": {
          "base_uri": "https://localhost:8080/"
        },
        "id": "M0IrVVwnhYGE",
        "outputId": "ab905e87-7812-4bc5-8d22-b3b245d31926"
      },
      "execution_count": null,
      "outputs": [
        {
          "output_type": "stream",
          "name": "stdout",
          "text": [
            "0.0\n"
          ]
        }
      ]
    },
    {
      "cell_type": "code",
      "source": [
        "x=np.array([10,21,30,40,50,60])\n",
        "y=np.array([20,21,2,20,25,25])\n",
        "print(np.divmod(x,y))\n"
      ],
      "metadata": {
        "colab": {
          "base_uri": "https://localhost:8080/"
        },
        "id": "32ZwO309hegJ",
        "outputId": "a92fff8c-abe9-43d1-e13b-881c25cc0650"
      },
      "execution_count": null,
      "outputs": [
        {
          "output_type": "stream",
          "name": "stdout",
          "text": [
            "(array([ 0,  1, 15,  2,  2,  2]), array([10,  0,  0,  0,  0, 10]))\n"
          ]
        }
      ]
    },
    {
      "cell_type": "code",
      "source": [
        "x=np.array([10,21,30,40,50,60])\n",
        "y=np.array([20,21,2,20,25,25])\n",
        "print(np.mod(x,y))\n"
      ],
      "metadata": {
        "colab": {
          "base_uri": "https://localhost:8080/"
        },
        "id": "F2Eae0u_iiXd",
        "outputId": "5e3ee27d-1bf3-4d3c-829a-ee8e40290ccb"
      },
      "execution_count": null,
      "outputs": [
        {
          "output_type": "stream",
          "name": "stdout",
          "text": [
            "[10  0  0  0  0 10]\n"
          ]
        }
      ]
    },
    {
      "cell_type": "code",
      "source": [
        "x=np.array([10,21,30,40,50,60])\n",
        "y=np.array([20,21,2,20,25,25])\n",
        "print(np.divide(x,y))\n"
      ],
      "metadata": {
        "colab": {
          "base_uri": "https://localhost:8080/"
        },
        "id": "RcJ7F9lGiqTb",
        "outputId": "20bf8eba-2408-4cd6-a719-92e45950e24e"
      },
      "execution_count": null,
      "outputs": [
        {
          "output_type": "stream",
          "name": "stdout",
          "text": [
            "[ 0.5  1.  15.   2.   2.   2.4]\n"
          ]
        }
      ]
    },
    {
      "cell_type": "code",
      "source": [
        "x=np.array([10,21,30,40,50,60])\n",
        "y=np.array([20,21,2,20,25,25])\n",
        "print(np.multiply(x,y))\n",
        "print(np.matmul(x,y))"
      ],
      "metadata": {
        "colab": {
          "base_uri": "https://localhost:8080/"
        },
        "id": "kT-EOLO2jAI6",
        "outputId": "277f8100-c2a6-4688-ce53-16c5e2f909c0"
      },
      "execution_count": null,
      "outputs": [
        {
          "output_type": "stream",
          "name": "stdout",
          "text": [
            "[ 200  441   60  800 1250 1500]\n",
            "4251\n"
          ]
        }
      ]
    },
    {
      "cell_type": "code",
      "source": [
        "from numpy import random\n",
        "x=random.normal(size=(2,3))\n",
        "print(x)"
      ],
      "metadata": {
        "colab": {
          "base_uri": "https://localhost:8080/"
        },
        "id": "u64IjpzfjWmZ",
        "outputId": "8599f1d9-48cc-4bb4-eb3f-5146d54707b1"
      },
      "execution_count": null,
      "outputs": [
        {
          "output_type": "stream",
          "name": "stdout",
          "text": [
            "[[-1.38773164 -0.18942786  0.97495656]\n",
            " [-1.45632372  0.44142698 -0.38410906]]\n"
          ]
        }
      ]
    },
    {
      "cell_type": "code",
      "source": [
        "\n",
        "x=random.normal(loc=1,scale=2,size=(2,3)) # scale=standard deviation,loc=mean\n",
        "print(x)"
      ],
      "metadata": {
        "colab": {
          "base_uri": "https://localhost:8080/"
        },
        "id": "ZHrNHF6KkBNU",
        "outputId": "334eae4f-3d66-4abd-a928-4045d5bb8e0b"
      },
      "execution_count": null,
      "outputs": [
        {
          "output_type": "stream",
          "name": "stdout",
          "text": [
            "[[ 0.05627323 -2.44658093 -2.81373334]\n",
            " [ 0.55723959  0.98190824  1.37312511]]\n"
          ]
        }
      ]
    },
    {
      "cell_type": "code",
      "source": [
        "x=random.binomial(n=12,p=0.5,size=10) # n=no.of trails,p=probability\n",
        "print(x)"
      ],
      "metadata": {
        "colab": {
          "base_uri": "https://localhost:8080/"
        },
        "id": "OFXmXYmeloTi",
        "outputId": "19defd86-9639-4a34-d095-5556e7ae767b"
      },
      "execution_count": null,
      "outputs": [
        {
          "output_type": "stream",
          "name": "stdout",
          "text": [
            "[ 7 10  5  4  7  5  7  6  5  8]\n"
          ]
        }
      ]
    },
    {
      "cell_type": "code",
      "source": [
        "x=random.poisson(lam=2,size=10)\n",
        "print(x)"
      ],
      "metadata": {
        "colab": {
          "base_uri": "https://localhost:8080/"
        },
        "id": "B6oQIUHfmCCh",
        "outputId": "b5ae14cb-be0b-47e1-8727-421d5d39ee1c"
      },
      "execution_count": null,
      "outputs": [
        {
          "output_type": "stream",
          "name": "stdout",
          "text": [
            "[2 1 2 1 3 3 4 1 2 3]\n"
          ]
        }
      ]
    },
    {
      "cell_type": "code",
      "source": [
        "x=random.choice([1,2,3])\n",
        "print(x)"
      ],
      "metadata": {
        "colab": {
          "base_uri": "https://localhost:8080/"
        },
        "id": "PGrZmroAma99",
        "outputId": "5e41c35c-40c0-490b-b1ad-eae9d64208ae"
      },
      "execution_count": null,
      "outputs": [
        {
          "output_type": "stream",
          "name": "stdout",
          "text": [
            "3\n"
          ]
        }
      ]
    },
    {
      "cell_type": "code",
      "source": [
        "x=random.choice([3,9],p=[0.5,0.5],size=(3,4))\n",
        "print(x)"
      ],
      "metadata": {
        "colab": {
          "base_uri": "https://localhost:8080/"
        },
        "id": "YyPUsa4cmnTs",
        "outputId": "0f40dae0-8e07-4393-9fd3-bd58b893f818"
      },
      "execution_count": null,
      "outputs": [
        {
          "output_type": "stream",
          "name": "stdout",
          "text": [
            "[[3 3 3 9]\n",
            " [9 9 3 9]\n",
            " [9 3 3 9]]\n"
          ]
        }
      ]
    },
    {
      "cell_type": "code",
      "source": [
        "x=random.choice([3,9],p=[0.5,0.5],size=(3,4))\n",
        "print(x)"
      ],
      "metadata": {
        "id": "CI8mPiM_CPwW"
      },
      "execution_count": null,
      "outputs": []
    }
  ]
}