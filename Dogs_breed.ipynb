{
  "cells": [
    {
      "cell_type": "code",
      "execution_count": 1,
      "metadata": {
        "colab": {
          "base_uri": "https://localhost:8080/"
        },
        "id": "7RWcgnqYU8ok",
        "outputId": "6af9b655-1ac5-414a-8820-c10d55d8261b"
      },
      "outputs": [
        {
          "output_type": "stream",
          "name": "stdout",
          "text": [
            "Found 239 images belonging to 6 classes.\n",
            "Found 59 images belonging to 6 classes.\n",
            "Found 396 images belonging to 8 classes.\n"
          ]
        }
      ],
      "source": [
        "import tensorflow as tf\n",
        "from tensorflow import keras\n",
        "from tensorflow.keras import layers\n",
        "from tensorflow.keras.preprocessing.image import ImageDataGenerator\n",
        "#define image size and batch size\n",
        "IMG_SIZE=224\n",
        "BATCH_SIZE=32\n",
        "#defining data generators for train,validationand test sets\n",
        "train_datagen=ImageDataGenerator(\n",
        "    rescale=1./255,\n",
        "    validation_split=0.2\n",
        ")\n",
        "train_generator=train_datagen.flow_from_directory(\n",
        "    \"/content/drive/MyDrive/Dogs breed dataset (1)/indian breed\",\n",
        "    target_size=(IMG_SIZE, IMG_SIZE),\n",
        "    batch_size=BATCH_SIZE,\n",
        "    class_mode='binary',\n",
        "    subset='training'\n",
        "\n",
        ")\n",
        "val_generator=train_datagen.flow_from_directory(\n",
        "    \"/content/drive/MyDrive/Dogs breed dataset (1)/indian breed\",\n",
        "    target_size=(IMG_SIZE, IMG_SIZE),\n",
        "    batch_size=BATCH_SIZE,\n",
        "    class_mode='binary',\n",
        "    subset='validation'\n",
        ")\n",
        "test_datagen=ImageDataGenerator(rescale=1./225)\n",
        "test_datagen=test_datagen.flow_from_directory(\n",
        "    \"/content/drive/MyDrive/Dogs breed dataset (1)/foreign breed\",\n",
        "    target_size=(IMG_SIZE, IMG_SIZE),\n",
        "    batch_size=BATCH_SIZE,\n",
        "    class_mode='binary'\n",
        "\n",
        ")"
      ]
    },
    {
      "cell_type": "code",
      "execution_count": 2,
      "metadata": {
        "id": "z2IiS2FfVlEA"
      },
      "outputs": [],
      "source": [
        "# Define the model\n",
        "model = keras.Sequential([\n",
        "    layers.Conv2D(32, (3, 3), activation='relu', input_shape=(IMG_SIZE, IMG_SIZE, 3)),\n",
        "    layers.MaxPooling2D((2, 2)),\n",
        "    layers.Conv2D(64, (3, 3), activation='relu'),\n",
        "    layers.MaxPooling2D((2, 2)),\n",
        "    layers.Conv2D(128, (3, 3), activation='relu'),\n",
        "    layers.MaxPooling2D((2, 2)),\n",
        "    layers.Flatten(),\n",
        "    layers.Dense(128, activation='relu'),\n",
        "    layers.Dense(1, activation='sigmoid')\n",
        "])"
      ]
    },
    {
      "cell_type": "code",
      "execution_count": 3,
      "metadata": {
        "id": "0btQqGh0VrOH"
      },
      "outputs": [],
      "source": [
        "#compile the model\n",
        "model.compile(optimizer='adam',loss='binary_crossentropy',metrics=['accuracy'])"
      ]
    },
    {
      "cell_type": "code",
      "execution_count": null,
      "metadata": {
        "colab": {
          "background_save": true,
          "base_uri": "https://localhost:8080/"
        },
        "id": "0bNsBQKyVxOQ",
        "outputId": "b430e877-a39d-40df-a273-19ad6862bf28"
      },
      "outputs": [
        {
          "name": "stdout",
          "output_type": "stream",
          "text": [
            "Epoch 1/5\n",
            "8/8 [==============================] - 37s 5s/step - loss: -14337035.0000 - accuracy: 0.1674 - val_loss: -25023488.0000 - val_accuracy: 0.1695\n",
            "Epoch 2/5\n",
            "8/8 [==============================] - 31s 4s/step - loss: -39592768.0000 - accuracy: 0.1674 - val_loss: -66084892.0000 - val_accuracy: 0.1695\n",
            "Epoch 3/5\n",
            "8/8 [==============================] - 30s 4s/step - loss: -100307696.0000 - accuracy: 0.1674 - val_loss: -155602208.0000 - val_accuracy: 0.1695\n",
            "Epoch 4/5\n",
            "8/8 [==============================] - 31s 4s/step - loss: -223001760.0000 - accuracy: 0.1674 - val_loss: -331206560.0000 - val_accuracy: 0.1695\n",
            "Epoch 5/5\n",
            "8/8 [==============================] - 30s 4s/step - loss: -451522336.0000 - accuracy: 0.1674 - val_loss: -652535552.0000 - val_accuracy: 0.1695\n"
          ]
        }
      ],
      "source": [
        "history=model.fit(train_generator,validation_data=val_generator,epochs=5)"
      ]
    },
    {
      "cell_type": "code",
      "execution_count": 4,
      "metadata": {
        "colab": {
          "base_uri": "https://localhost:8080/"
        },
        "id": "K15cY1X4WiD5",
        "outputId": "0a6d4708-1346-4d73-b716-d263b920555f"
      },
      "outputs": [
        {
          "output_type": "stream",
          "name": "stderr",
          "text": [
            "/usr/local/lib/python3.10/dist-packages/keras/src/engine/training.py:3103: UserWarning: You are saving your model as an HDF5 file via `model.save()`. This file format is considered legacy. We recommend using instead the native Keras format, e.g. `model.save('my_model.keras')`.\n",
            "  saving_api.save_model(\n"
          ]
        }
      ],
      "source": [
        "model.save(\"Model.h5\",\"label.txt\")"
      ]
    },
    {
      "cell_type": "code",
      "execution_count": 9,
      "metadata": {
        "id": "SO6zl7opV7Cz",
        "colab": {
          "base_uri": "https://localhost:8080/"
        },
        "outputId": "cfada2da-fe97-463e-c052-3833501033f5"
      },
      "outputs": [
        {
          "output_type": "stream",
          "name": "stdout",
          "text": [
            "1/1 [==============================] - 0s 215ms/step\n",
            "Prediction: indian breed (Probability: 0.46907756 )\n"
          ]
        }
      ],
      "source": [
        "from tensorflow.keras.models import load_model\n",
        "from tensorflow.keras.preprocessing import image\n",
        "import numpy as np\n",
        "model=load_model('/content/Model.h5')\n",
        "test_image_path='/content/Image_3.jpg'\n",
        "img=image.load_img(test_image_path,target_size=(224,224,3))\n",
        "img_array=image.img_to_array(img)\n",
        "img_array=np.expand_dims(img_array,axis=0)\n",
        "img_array/=255.\n",
        "prediction=model.predict(img_array)\n",
        "if prediction < 0.5:\n",
        "  print(\"Prediction: indian breed (Probability:\",prediction[0][0],\")\")\n",
        "else:\n",
        "  print(\"Prediction: foreign breed (Probability:\",prediction[0][0],\")\")"
      ]
    }
  ],
  "metadata": {
    "colab": {
      "provenance": []
    },
    "kernelspec": {
      "display_name": "Python 3",
      "name": "python3"
    },
    "language_info": {
      "name": "python"
    }
  },
  "nbformat": 4,
  "nbformat_minor": 0
}